{
 "cells": [
  {
   "cell_type": "code",
   "execution_count": 1,
   "id": "dbc8b302",
   "metadata": {},
   "outputs": [],
   "source": [
    "import pandas as pd\n",
    "import numpy as np\n",
    "import matplotlib.pyplot as plt\n",
    "%matplotlib widget"
   ]
  },
  {
   "cell_type": "code",
   "execution_count": 56,
   "id": "dd114ff8",
   "metadata": {},
   "outputs": [
    {
     "name": "stdout",
     "output_type": "stream",
     "text": [
      "C:\\Users\\Zade\n"
     ]
    }
   ],
   "source": [
    "import os\n",
    "import altair as alt\n",
    "print(os.path.expanduser('~'))"
   ]
  },
  {
   "cell_type": "code",
   "execution_count": 5,
   "id": "afdd96b4",
   "metadata": {},
   "outputs": [
    {
     "data": {
      "text/plain": [
       "DataTransformerRegistry.enable('default')"
      ]
     },
     "execution_count": 5,
     "metadata": {},
     "output_type": "execute_result"
    }
   ],
   "source": [
    "#disable max rows error for this dataset\n",
    "alt.data_transformers.disable_max_rows()"
   ]
  },
  {
   "cell_type": "code",
   "execution_count": 6,
   "id": "7ae5c457",
   "metadata": {},
   "outputs": [
    {
     "data": {
      "text/html": [
       "<div>\n",
       "<style scoped>\n",
       "    .dataframe tbody tr th:only-of-type {\n",
       "        vertical-align: middle;\n",
       "    }\n",
       "\n",
       "    .dataframe tbody tr th {\n",
       "        vertical-align: top;\n",
       "    }\n",
       "\n",
       "    .dataframe thead th {\n",
       "        text-align: right;\n",
       "    }\n",
       "</style>\n",
       "<table border=\"1\" class=\"dataframe\">\n",
       "  <thead>\n",
       "    <tr style=\"text-align: right;\">\n",
       "      <th></th>\n",
       "      <th>OCCUR_DATE</th>\n",
       "      <th>OCCUR_TIME</th>\n",
       "      <th>BORO</th>\n",
       "      <th>PRECINCT</th>\n",
       "      <th>LOCATION_DESC</th>\n",
       "      <th>STATISTICAL_MURDER_FLAG</th>\n",
       "      <th>PERP_AGE_GROUP</th>\n",
       "      <th>PERP_SEX</th>\n",
       "      <th>PERP_RACE</th>\n",
       "      <th>VIC_AGE_GROUP</th>\n",
       "      <th>VIC_SEX</th>\n",
       "      <th>VIC_RACE</th>\n",
       "      <th>Latitude</th>\n",
       "      <th>Longitude</th>\n",
       "    </tr>\n",
       "  </thead>\n",
       "  <tbody>\n",
       "    <tr>\n",
       "      <th>0</th>\n",
       "      <td>08/23/2019</td>\n",
       "      <td>22:10:00</td>\n",
       "      <td>QUEENS</td>\n",
       "      <td>103</td>\n",
       "      <td>NaN</td>\n",
       "      <td>False</td>\n",
       "      <td>NaN</td>\n",
       "      <td>NaN</td>\n",
       "      <td>NaN</td>\n",
       "      <td>25-44</td>\n",
       "      <td>M</td>\n",
       "      <td>BLACK</td>\n",
       "      <td>40.697805</td>\n",
       "      <td>-73.808141</td>\n",
       "    </tr>\n",
       "    <tr>\n",
       "      <th>1</th>\n",
       "      <td>11/27/2019</td>\n",
       "      <td>15:54:00</td>\n",
       "      <td>BRONX</td>\n",
       "      <td>40</td>\n",
       "      <td>NaN</td>\n",
       "      <td>False</td>\n",
       "      <td>&lt;18</td>\n",
       "      <td>M</td>\n",
       "      <td>BLACK</td>\n",
       "      <td>25-44</td>\n",
       "      <td>F</td>\n",
       "      <td>BLACK</td>\n",
       "      <td>40.818700</td>\n",
       "      <td>-73.918571</td>\n",
       "    </tr>\n",
       "    <tr>\n",
       "      <th>2</th>\n",
       "      <td>02/02/2019</td>\n",
       "      <td>19:40:00</td>\n",
       "      <td>MANHATTAN</td>\n",
       "      <td>23</td>\n",
       "      <td>NaN</td>\n",
       "      <td>False</td>\n",
       "      <td>18-24</td>\n",
       "      <td>M</td>\n",
       "      <td>WHITE HISPANIC</td>\n",
       "      <td>18-24</td>\n",
       "      <td>M</td>\n",
       "      <td>BLACK HISPANIC</td>\n",
       "      <td>40.791916</td>\n",
       "      <td>-73.945480</td>\n",
       "    </tr>\n",
       "    <tr>\n",
       "      <th>3</th>\n",
       "      <td>10/24/2019</td>\n",
       "      <td>00:52:00</td>\n",
       "      <td>STATEN ISLAND</td>\n",
       "      <td>121</td>\n",
       "      <td>PVT HOUSE</td>\n",
       "      <td>True</td>\n",
       "      <td>25-44</td>\n",
       "      <td>M</td>\n",
       "      <td>BLACK</td>\n",
       "      <td>25-44</td>\n",
       "      <td>F</td>\n",
       "      <td>BLACK</td>\n",
       "      <td>40.638064</td>\n",
       "      <td>-74.166108</td>\n",
       "    </tr>\n",
       "    <tr>\n",
       "      <th>4</th>\n",
       "      <td>08/22/2019</td>\n",
       "      <td>18:03:00</td>\n",
       "      <td>BRONX</td>\n",
       "      <td>46</td>\n",
       "      <td>NaN</td>\n",
       "      <td>False</td>\n",
       "      <td>25-44</td>\n",
       "      <td>M</td>\n",
       "      <td>BLACK HISPANIC</td>\n",
       "      <td>18-24</td>\n",
       "      <td>M</td>\n",
       "      <td>BLACK</td>\n",
       "      <td>40.854547</td>\n",
       "      <td>-73.913339</td>\n",
       "    </tr>\n",
       "  </tbody>\n",
       "</table>\n",
       "</div>"
      ],
      "text/plain": [
       "   OCCUR_DATE OCCUR_TIME           BORO  PRECINCT LOCATION_DESC  \\\n",
       "0  08/23/2019   22:10:00         QUEENS       103           NaN   \n",
       "1  11/27/2019   15:54:00          BRONX        40           NaN   \n",
       "2  02/02/2019   19:40:00      MANHATTAN        23           NaN   \n",
       "3  10/24/2019   00:52:00  STATEN ISLAND       121     PVT HOUSE   \n",
       "4  08/22/2019   18:03:00          BRONX        46           NaN   \n",
       "\n",
       "   STATISTICAL_MURDER_FLAG PERP_AGE_GROUP PERP_SEX       PERP_RACE  \\\n",
       "0                    False            NaN      NaN             NaN   \n",
       "1                    False            <18        M           BLACK   \n",
       "2                    False          18-24        M  WHITE HISPANIC   \n",
       "3                     True          25-44        M           BLACK   \n",
       "4                    False          25-44        M  BLACK HISPANIC   \n",
       "\n",
       "  VIC_AGE_GROUP VIC_SEX        VIC_RACE   Latitude  Longitude  \n",
       "0         25-44       M           BLACK  40.697805 -73.808141  \n",
       "1         25-44       F           BLACK  40.818700 -73.918571  \n",
       "2         18-24       M  BLACK HISPANIC  40.791916 -73.945480  \n",
       "3         25-44       F           BLACK  40.638064 -74.166108  \n",
       "4         18-24       M           BLACK  40.854547 -73.913339  "
      ]
     },
     "execution_count": 6,
     "metadata": {},
     "output_type": "execute_result"
    }
   ],
   "source": [
    "datapath = \"~\\\\Desktop\\\\mastersCoursework\\\\data_vis\\\\Data\\\\nypd_shooting_data_historic.csv\"\n",
    "#read in data, keep only the columns we may actually use, discard ones like incident_key which only matter to the police\n",
    "cols_we_want = ['OCCUR_DATE', 'OCCUR_TIME', 'BORO', 'PRECINCT', 'LOCATION_DESC', 'STATISTICAL_MURDER_FLAG', 'PERP_AGE_GROUP', 'PERP_SEX', 'PERP_RACE',\n",
    "               'VIC_AGE_GROUP', 'VIC_SEX', 'VIC_RACE', 'Latitude', 'Longitude']\n",
    "df = pd.read_csv(datapath, usecols = cols_we_want)\n",
    "df.head()"
   ]
  },
  {
   "cell_type": "code",
   "execution_count": 7,
   "id": "deadd1ea",
   "metadata": {},
   "outputs": [
    {
     "data": {
      "text/plain": [
       "array(['QUEENS', 'BRONX', 'MANHATTAN', 'STATEN ISLAND', 'BROOKLYN'],\n",
       "      dtype=object)"
      ]
     },
     "execution_count": 7,
     "metadata": {},
     "output_type": "execute_result"
    }
   ],
   "source": [
    "df.BORO.unique()"
   ]
  },
  {
   "cell_type": "code",
   "execution_count": 50,
   "id": "93a245b5",
   "metadata": {},
   "outputs": [],
   "source": [
    "\n",
    "#change OCCUR_DATE to datetime format\n",
    "df.OCCUR_DATE = pd.to_datetime(df['OCCUR_DATE'])\n",
    "#change OCCUR_TIME to datetime format\n",
    "df.OCCUR_TIME = pd.to_datetime(df['OCCUR_TIME']).dt.time"
   ]
  },
  {
   "cell_type": "code",
   "execution_count": 55,
   "id": "038a20af",
   "metadata": {},
   "outputs": [
    {
     "data": {
      "application/vnd.jupyter.widget-view+json": {
       "model_id": "60d11e9debb14f26ba3a2c061c8645a4",
       "version_major": 2,
       "version_minor": 0
      },
      "text/plain": [
       "Canvas(toolbar=Toolbar(toolitems=[('Home', 'Reset original view', 'home', 'home'), ('Back', 'Back to previous …"
      ]
     },
     "metadata": {},
     "output_type": "display_data"
    },
    {
     "data": {
      "text/plain": [
       "<AxesSubplot:xlabel='BORO'>"
      ]
     },
     "execution_count": 55,
     "metadata": {},
     "output_type": "execute_result"
    }
   ],
   "source": [
    "fig, ax = plt.subplots(figsize = (15, 7))\n",
    "df.groupby('BORO').count()['PRECINCT'].plot(ax = ax, kind = 'bar')"
   ]
  },
  {
   "cell_type": "code",
   "execution_count": null,
   "id": "03e4f3bb",
   "metadata": {},
   "outputs": [],
   "source": []
  }
 ],
 "metadata": {
  "kernelspec": {
   "display_name": "Python 3",
   "language": "python",
   "name": "python3"
  },
  "language_info": {
   "codemirror_mode": {
    "name": "ipython",
    "version": 3
   },
   "file_extension": ".py",
   "mimetype": "text/x-python",
   "name": "python",
   "nbconvert_exporter": "python",
   "pygments_lexer": "ipython3",
   "version": "3.8.8"
  }
 },
 "nbformat": 4,
 "nbformat_minor": 5
}
